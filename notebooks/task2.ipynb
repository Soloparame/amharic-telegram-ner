{
 "cells": [
  {
   "cell_type": "code",
   "execution_count": 5,
   "id": "9c78c4ed",
   "metadata": {},
   "outputs": [
    {
     "name": "stdout",
     "output_type": "stream",
     "text": [
      "✅ CoNLL file saved as ner_conll.txt\n"
     ]
    }
   ],
   "source": [
    "# Define your labeled messages (here are just 2 examples, you can add more)\n",
    "labeled_data = \"\"\"\n",
    "አዲስ    B-Product\n",
    "ስልኮች  I-Product\n",
    "በ      O\n",
    "15000  B-PRICE\n",
    "ብር    I-PRICE\n",
    "በ      O\n",
    "አዲስ    B-LOC\n",
    "አበባ    I-LOC\n",
    "ይገኛሉ። O\n",
    "\n",
    "ሴት      B-Product\n",
    "ልብስ    I-Product\n",
    "ዋጋ     B-PRICE\n",
    "2000    I-PRICE\n",
    "ብር     I-PRICE\n",
    "\"\"\"\n",
    "\n",
    "# Save to file\n",
    "with open(\"ner_conll.txt\", \"w\", encoding=\"utf-8\") as f:\n",
    "    f.write(labeled_data)\n",
    "\n",
    "print(\"✅ CoNLL file saved as ner_conll.txt\")\n"
   ]
  },
  {
   "cell_type": "code",
   "execution_count": 3,
   "id": "4442f827",
   "metadata": {},
   "outputs": [
    {
     "data": {
      "text/html": [
       "<a href='ner_conll.txt' target='_blank'>ner_conll.txt</a><br>"
      ],
      "text/plain": [
       "c:\\Users\\rebika\\Desktop\\amharic-telegram-ner\\notebooks\\ner_conll.txt"
      ]
     },
     "execution_count": 3,
     "metadata": {},
     "output_type": "execute_result"
    }
   ],
   "source": [
    "from IPython.display import FileLink\n",
    "\n",
    "# Display a download link for the file\n",
    "FileLink(\"ner_conll.txt\")\n"
   ]
  }
 ],
 "metadata": {
  "kernelspec": {
   "display_name": "venv",
   "language": "python",
   "name": "python3"
  },
  "language_info": {
   "codemirror_mode": {
    "name": "ipython",
    "version": 3
   },
   "file_extension": ".py",
   "mimetype": "text/x-python",
   "name": "python",
   "nbconvert_exporter": "python",
   "pygments_lexer": "ipython3",
   "version": "3.12.3"
  }
 },
 "nbformat": 4,
 "nbformat_minor": 5
}
