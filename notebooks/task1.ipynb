{
 "cells": [
  {
   "cell_type": "code",
   "execution_count": 1,
   "id": "045c2290",
   "metadata": {},
   "outputs": [
    {
     "name": "stdout",
     "output_type": "stream",
     "text": [
      "Requirement already satisfied: telethon in c:\\users\\rebika\\desktop\\amharic-telegram-ner\\venv\\lib\\site-packages (1.40.0)\n",
      "Requirement already satisfied: python-dotenv in c:\\users\\rebika\\desktop\\amharic-telegram-ner\\venv\\lib\\site-packages (1.1.1)\n",
      "Requirement already satisfied: pyaes in c:\\users\\rebika\\desktop\\amharic-telegram-ner\\venv\\lib\\site-packages (from telethon) (1.6.1)\n",
      "Requirement already satisfied: rsa in c:\\users\\rebika\\desktop\\amharic-telegram-ner\\venv\\lib\\site-packages (from telethon) (4.9.1)\n",
      "Requirement already satisfied: pyasn1>=0.1.3 in c:\\users\\rebika\\desktop\\amharic-telegram-ner\\venv\\lib\\site-packages (from rsa->telethon) (0.6.1)\n",
      "Note: you may need to restart the kernel to use updated packages.\n"
     ]
    },
    {
     "name": "stderr",
     "output_type": "stream",
     "text": [
      "\n",
      "[notice] A new release of pip is available: 24.0 -> 25.1.1\n",
      "[notice] To update, run: python.exe -m pip install --upgrade pip\n"
     ]
    }
   ],
   "source": [
    "# scripts/fetch_telegram_data.py\n",
    "\n",
    "%pip install telethon python-dotenv\n",
    "\n",
    "from telethon import TelegramClient\n",
    "from dotenv import load_dotenv\n",
    "import os\n",
    "\n",
    "load_dotenv()\n",
    "\n",
    "api_id = int(os.getenv(\"API_ID\"))\n",
    "api_hash = os.getenv(\"API_HASH\")\n",
    "phone = os.getenv(\"PHONE\")\n",
    "\n",
    "client = TelegramClient(\"amharic_telegram\", api_id, api_hash)\n",
    "\n",
    "async def fetch_messages(channel, limit=1000):\n",
    "    await client.start(phone)\n",
    "    entity = await client.get_entity(channel)\n",
    "    messages = []\n",
    "    async for msg in client.iter_messages(entity, limit=limit):\n",
    "        messages.append({\n",
    "            \"id\": msg.id,\n",
    "            \"text\": msg.message,\n",
    "            \"date\": msg.date.isoformat(),\n",
    "            \"media\": bool(msg.media)\n",
    "        })\n",
    "    return messages\n"
   ]
  },
  {
   "cell_type": "code",
   "execution_count": 2,
   "id": "d65256f2",
   "metadata": {},
   "outputs": [],
   "source": [
    "channels = [\n",
    "    \"@ZemenExpress\",\n",
    "    \"@nevacomputer\",\n",
    "    \"@meneshayeofficial\",\n",
    "    \"@ethio_brand_collection\",\n",
    "    \"@Leyueqa\",\n",
    "\n",
    "]\n"
   ]
  },
  {
   "cell_type": "code",
   "execution_count": null,
   "id": "63a245f1",
   "metadata": {},
   "outputs": [
    {
     "ename": "SendCodeUnavailableError",
     "evalue": "Returned when all available options for this type of number were already used (e.g. flash-call, then SMS, then this error might be returned to trigger a second resend) (caused by ResendCodeRequest)",
     "output_type": "error",
     "traceback": [
      "\u001b[31m---------------------------------------------------------------------------\u001b[39m",
      "\u001b[31mSendCodeUnavailableError\u001b[39m                  Traceback (most recent call last)",
      "\u001b[36mCell\u001b[39m\u001b[36m \u001b[39m\u001b[32mIn[6]\u001b[39m\u001b[32m, line 17\u001b[39m\n\u001b[32m     13\u001b[39m         \u001b[38;5;28mprint\u001b[39m(\u001b[33mf\u001b[39m\u001b[33m\"\u001b[39m\u001b[33m✔️ Done: \u001b[39m\u001b[38;5;132;01m{\u001b[39;00mchannel\u001b[38;5;132;01m}\u001b[39;00m\u001b[33m\"\u001b[39m)\n\u001b[32m     15\u001b[39m     \u001b[38;5;28;01mawait\u001b[39;00m asyncio.gather(*(fetch_and_save(ch) \u001b[38;5;28;01mfor\u001b[39;00m ch \u001b[38;5;129;01min\u001b[39;00m channels))\n\u001b[32m---> \u001b[39m\u001b[32m17\u001b[39m \u001b[38;5;28;01mawait\u001b[39;00m main()\n",
      "\u001b[36mCell\u001b[39m\u001b[36m \u001b[39m\u001b[32mIn[6]\u001b[39m\u001b[32m, line 6\u001b[39m, in \u001b[36mmain\u001b[39m\u001b[34m()\u001b[39m\n\u001b[32m      3\u001b[39m \u001b[38;5;28;01masync\u001b[39;00m \u001b[38;5;28;01mdef\u001b[39;00m\u001b[38;5;250m \u001b[39m\u001b[34mmain\u001b[39m():\n\u001b[32m      4\u001b[39m     \u001b[38;5;66;03m# Only start the client if not already authorized\u001b[39;00m\n\u001b[32m      5\u001b[39m     \u001b[38;5;28;01mif\u001b[39;00m \u001b[38;5;129;01mnot\u001b[39;00m \u001b[38;5;28;01mawait\u001b[39;00m client.is_user_authorized():\n\u001b[32m----> \u001b[39m\u001b[32m6\u001b[39m         \u001b[38;5;28;01mawait\u001b[39;00m client.start(phone)\n\u001b[32m      8\u001b[39m     \u001b[38;5;28;01masync\u001b[39;00m \u001b[38;5;28;01mdef\u001b[39;00m\u001b[38;5;250m \u001b[39m\u001b[34mfetch_and_save\u001b[39m(channel):\n\u001b[32m      9\u001b[39m         msgs = \u001b[38;5;28;01mawait\u001b[39;00m fetch_messages(channel)\n",
      "\u001b[36mFile \u001b[39m\u001b[32mc:\\Users\\rebika\\Desktop\\amharic-telegram-ner\\venv\\Lib\\site-packages\\telethon\\client\\auth.py:186\u001b[39m, in \u001b[36mAuthMethods._start\u001b[39m\u001b[34m(self, phone, password, bot_token, force_sms, code_callback, first_name, last_name, max_attempts)\u001b[39m\n\u001b[32m    183\u001b[39m attempts = \u001b[32m0\u001b[39m\n\u001b[32m    184\u001b[39m two_step_detected = \u001b[38;5;28;01mFalse\u001b[39;00m\n\u001b[32m--> \u001b[39m\u001b[32m186\u001b[39m \u001b[38;5;28;01mawait\u001b[39;00m \u001b[38;5;28mself\u001b[39m.send_code_request(phone, force_sms=force_sms)\n\u001b[32m    187\u001b[39m \u001b[38;5;28;01mwhile\u001b[39;00m attempts < max_attempts:\n\u001b[32m    188\u001b[39m     \u001b[38;5;28;01mtry\u001b[39;00m:\n",
      "\u001b[36mFile \u001b[39m\u001b[32mc:\\Users\\rebika\\Desktop\\amharic-telegram-ner\\venv\\Lib\\site-packages\\telethon\\client\\auth.py:472\u001b[39m, in \u001b[36mAuthMethods.send_code_request\u001b[39m\u001b[34m(self, phone, force_sms, _retry_count)\u001b[39m\n\u001b[32m    470\u001b[39m \u001b[38;5;28;01mif\u001b[39;00m force_sms:\n\u001b[32m    471\u001b[39m     \u001b[38;5;28;01mtry\u001b[39;00m:\n\u001b[32m--> \u001b[39m\u001b[32m472\u001b[39m         result = \u001b[38;5;28;01mawait\u001b[39;00m \u001b[38;5;28mself\u001b[39m(\n\u001b[32m    473\u001b[39m             functions.auth.ResendCodeRequest(phone, phone_hash))\n\u001b[32m    474\u001b[39m     \u001b[38;5;28;01mexcept\u001b[39;00m errors.PhoneCodeExpiredError:\n\u001b[32m    475\u001b[39m         \u001b[38;5;28;01mif\u001b[39;00m _retry_count > \u001b[32m2\u001b[39m:\n",
      "\u001b[36mFile \u001b[39m\u001b[32mc:\\Users\\rebika\\Desktop\\amharic-telegram-ner\\venv\\Lib\\site-packages\\telethon\\client\\users.py:30\u001b[39m, in \u001b[36mUserMethods.__call__\u001b[39m\u001b[34m(self, request, ordered, flood_sleep_threshold)\u001b[39m\n\u001b[32m     29\u001b[39m \u001b[38;5;28;01masync\u001b[39;00m \u001b[38;5;28;01mdef\u001b[39;00m\u001b[38;5;250m \u001b[39m\u001b[34m__call__\u001b[39m(\u001b[38;5;28mself\u001b[39m: \u001b[33m'\u001b[39m\u001b[33mTelegramClient\u001b[39m\u001b[33m'\u001b[39m, request, ordered=\u001b[38;5;28;01mFalse\u001b[39;00m, flood_sleep_threshold=\u001b[38;5;28;01mNone\u001b[39;00m):\n\u001b[32m---> \u001b[39m\u001b[32m30\u001b[39m     \u001b[38;5;28;01mreturn\u001b[39;00m \u001b[38;5;28;01mawait\u001b[39;00m \u001b[38;5;28mself\u001b[39m._call(\u001b[38;5;28mself\u001b[39m._sender, request, ordered=ordered)\n",
      "\u001b[36mFile \u001b[39m\u001b[32mc:\\Users\\rebika\\Desktop\\amharic-telegram-ner\\venv\\Lib\\site-packages\\telethon\\client\\users.py:92\u001b[39m, in \u001b[36mUserMethods._call\u001b[39m\u001b[34m(self, sender, request, ordered, flood_sleep_threshold)\u001b[39m\n\u001b[32m     90\u001b[39m         \u001b[38;5;28;01mreturn\u001b[39;00m results\n\u001b[32m     91\u001b[39m \u001b[38;5;28;01melse\u001b[39;00m:\n\u001b[32m---> \u001b[39m\u001b[32m92\u001b[39m     result = \u001b[38;5;28;01mawait\u001b[39;00m future\n\u001b[32m     93\u001b[39m     \u001b[38;5;28mself\u001b[39m.session.process_entities(result)\n\u001b[32m     94\u001b[39m     \u001b[38;5;28;01mreturn\u001b[39;00m result\n",
      "\u001b[31mSendCodeUnavailableError\u001b[39m: Returned when all available options for this type of number were already used (e.g. flash-call, then SMS, then this error might be returned to trigger a second resend) (caused by ResendCodeRequest)"
     ]
    }
   ],
   "source": [
    "import asyncio\n",
    "\n",
    "async def main():\n",
    "    # Only start the client if not already authorized\n",
    "    if not await client.is_user_authorized():\n",
    "        await client.start(phone)\n",
    "\n",
    "    async def fetch_and_save(channel):\n",
    "        msgs = await fetch_messages(channel)\n",
    "        filename = f\"data/raw/{channel.strip('@')}.json\"\n",
    "        with open(filename, \"w\", encoding=\"utf-8\") as f:\n",
    "            json.dump(msgs, f, ensure_ascii=False, indent=2)\n",
    "        print(f\"✔️ Done: {channel}\")\n",
    "\n",
    "    await asyncio.gather(*(fetch_and_save(ch) for ch in channels))\n",
    "\n",
    "await main()\n"
   ]
  },
  {
   "cell_type": "code",
   "execution_count": null,
   "id": "aa742f0e",
   "metadata": {},
   "outputs": [],
   "source": [
    "import re\n",
    "import json\n",
    "import os\n",
    "from tqdm import tqdm\n",
    "\n",
    "def normalize_amharic(text):\n",
    "    if not text:\n",
    "        return \"\"\n",
    "    text = text.strip()\n",
    "    text = re.sub(r'\\s+', ' ', text)\n",
    "    return text\n",
    "\n",
    "def preprocess_channel(filename):\n",
    "    with open(filename, encoding='utf-8') as f:\n",
    "        data = json.load(f)\n",
    "\n",
    "    preprocessed = []\n",
    "    for item in data:\n",
    "        if item[\"text\"]:\n",
    "            norm = normalize_amharic(item[\"text\"])\n",
    "            preprocessed.append({\n",
    "                \"text\": norm,\n",
    "                \"date\": item[\"date\"]\n",
    "            })\n",
    "\n",
    "    out_file = \"data/processed/\" + os.path.basename(filename)\n",
    "    with open(out_file, \"w\", encoding=\"utf-8\") as f:\n",
    "        json.dump(preprocessed, f, ensure_ascii=False, indent=2)\n",
    "\n",
    "# Process all files\n",
    "for fname in os.listdir(\"data/raw\"):\n",
    "    preprocess_channel(\"data/raw/\" + fname)\n"
   ]
  },
  {
   "cell_type": "code",
   "execution_count": null,
   "id": "3a01e1f2",
   "metadata": {},
   "outputs": [],
   "source": [
    "from datasets import load_dataset\n",
    "\n",
    "dataset = load_dataset(\"json\", data_files=\"labelled_data.json\", split=\"train\")\n"
   ]
  },
  {
   "cell_type": "code",
   "execution_count": null,
   "id": "7d2d8fdc",
   "metadata": {},
   "outputs": [],
   "source": [
    "from transformers import AutoTokenizer, AutoModelForTokenClassification, TrainingArguments, Trainer\n",
    "from transformers import DataCollatorForTokenClassification\n",
    "\n",
    "model_name = \"Davlan/bert-base-multilingual-cased-ner\"\n",
    "tokenizer = AutoTokenizer.from_pretrained(model_name)\n",
    "model = AutoModelForTokenClassification.from_pretrained(model_name, num_labels=len(label_list))\n",
    "\n",
    "def tokenize_and_align_labels(examples):\n",
    "    tokenized_inputs = tokenizer(examples[\"tokens\"], truncation=True, is_split_into_words=True)\n",
    "    return tokenized_inputs\n",
    "\n",
    "tokenized_dataset = dataset.map(tokenize_and_align_labels, batched=True)\n",
    "data_collator = DataCollatorForTokenClassification(tokenizer)\n",
    "\n",
    "training_args = TrainingArguments(\n",
    "    output_dir=\"./models\",\n",
    "    evaluation_strategy=\"epoch\",\n",
    "    learning_rate=2e-5,\n",
    "    per_device_train_batch_size=8,\n",
    "    num_train_epochs=5,\n",
    "    weight_decay=0.01\n",
    ")\n",
    "\n",
    "trainer = Trainer(\n",
    "    model=model,\n",
    "    args=training_args,\n",
    "    train_dataset=tokenized_dataset,\n",
    "    tokenizer=tokenizer,\n",
    "    data_collator=data_collator\n",
    ")\n",
    "\n",
    "trainer.train()\n"
   ]
  },
  {
   "cell_type": "code",
   "execution_count": null,
   "id": "dc1c038f",
   "metadata": {},
   "outputs": [],
   "source": [
    "from seqeval.metrics import classification_report\n",
    "\n",
    "# y_true and y_pred should be BIO-tagged sequences\n",
    "print(classification_report(y_true, y_pred))\n"
   ]
  },
  {
   "cell_type": "code",
   "execution_count": null,
   "id": "08b25707",
   "metadata": {},
   "outputs": [],
   "source": [
    "from pymongo import MongoClient\n",
    "\n",
    "client = MongoClient()\n",
    "db = client.amharic_ner\n",
    "\n",
    "for file in os.listdir(\"data/processed\"):\n",
    "    with open(\"data/processed/\" + file) as f:\n",
    "        data = json.load(f)\n",
    "        db.messages.insert_many(data)\n"
   ]
  }
 ],
 "metadata": {
  "kernelspec": {
   "display_name": "venv",
   "language": "python",
   "name": "python3"
  },
  "language_info": {
   "codemirror_mode": {
    "name": "ipython",
    "version": 3
   },
   "file_extension": ".py",
   "mimetype": "text/x-python",
   "name": "python",
   "nbconvert_exporter": "python",
   "pygments_lexer": "ipython3",
   "version": "3.12.3"
  }
 },
 "nbformat": 4,
 "nbformat_minor": 5
}
