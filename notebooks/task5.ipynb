{
 "cells": [
  {
   "cell_type": "code",
   "execution_count": null,
   "id": "3b30b901",
   "metadata": {},
   "outputs": [],
   "source": [
    "!pip install shap lime transformers datasets\n",
    "from transformers import AutoTokenizer, AutoModelForTokenClassification\n",
    "import torch\n",
    "\n",
    "model_path = \"final_amharic_ner_model\"\n",
    "model = AutoModelForTokenClassification.from_pretrained(model_path)\n",
    "tokenizer = AutoTokenizer.from_pretrained(model_path)\n",
    "model.eval()\n"
   ]
  },
  {
   "cell_type": "code",
   "execution_count": null,
   "id": "3b9fc5a5",
   "metadata": {},
   "outputs": [],
   "source": [
    "def predict_ner_labels(texts):\n",
    "    encoded = tokenizer(texts, return_tensors=\"pt\", padding=True, truncation=True, is_split_into_words=False)\n",
    "    with torch.no_grad():\n",
    "        output = model(**encoded).logits\n",
    "    predictions = torch.argmax(output, dim=-1).squeeze().tolist()\n",
    "    tokens = tokenizer.convert_ids_to_tokens(encoded[\"input_ids\"].squeeze().tolist())\n",
    "    return list(zip(tokens, predictions))\n"
   ]
  },
  {
   "cell_type": "code",
   "execution_count": null,
   "id": "64868cf1",
   "metadata": {},
   "outputs": [],
   "source": [
    "import shap\n",
    "\n",
    "def shap_ner(texts):\n",
    "    def f(X):\n",
    "        inputs = tokenizer(X, return_tensors=\"pt\", padding=True, truncation=True)\n",
    "        outputs = model(**inputs).logits\n",
    "        return outputs.detach().numpy()\n",
    "\n",
    "    explainer = shap.Explainer(f, tokenizer)\n",
    "    shap_values = explainer(texts)\n",
    "    shap.plots.text(shap_values[0])  # visual explanation of the first sentence\n",
    "\n",
    "shap_ner([\"አዲስ ስልኮች በ15000 ብር\"])\n"
   ]
  },
  {
   "cell_type": "code",
   "execution_count": null,
   "id": "5e82d40f",
   "metadata": {},
   "outputs": [],
   "source": [
    "from lime.lime_text import LimeTextExplainer\n",
    "\n",
    "class_names = list(id2label.values())\n",
    "\n",
    "def lime_ner_explain(text):\n",
    "    explainer = LimeTextExplainer(class_names=class_names)\n",
    "    \n",
    "    def predict_fn(text_list):\n",
    "        results = []\n",
    "        for t in text_list:\n",
    "            tokenized = tokenizer(t, return_tensors=\"pt\", truncation=True, padding=True)\n",
    "            output = model(**tokenized).logits\n",
    "            probs = torch.nn.functional.softmax(output, dim=-1)\n",
    "            results.append(probs.squeeze().detach().numpy()[0])  # probability of first token\n",
    "        return results\n",
    "\n",
    "    exp = explainer.explain_instance(text, predict_fn, num_features=10)\n",
    "    exp.show_in_notebook()\n",
    "\n",
    "lime_ner_explain(\"የህፃናት ጫማ በ500 ብር\")\n"
   ]
  },
  {
   "cell_type": "code",
   "execution_count": null,
   "id": "05194ee0",
   "metadata": {},
   "outputs": [],
   "source": []
  }
 ],
 "metadata": {
  "language_info": {
   "name": "python"
  }
 },
 "nbformat": 4,
 "nbformat_minor": 5
}
