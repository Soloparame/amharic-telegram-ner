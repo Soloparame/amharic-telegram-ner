{
 "cells": [
  {
   "cell_type": "code",
   "execution_count": 7,
   "id": "69ff74a7",
   "metadata": {},
   "outputs": [],
   "source": [
    "model_name = \"Davlan/bert-base-amharic\"  # or \"bert-base-multilingual-cased\"\n"
   ]
  },
  {
   "cell_type": "code",
   "execution_count": null,
   "id": "794c69d7",
   "metadata": {},
   "outputs": [],
   "source": [
    "# Install transformers and torch if not already installed\n",
    "%pip install transformers torch\n",
    "\n",
    "from transformers import Trainer, AutoModelForTokenClassification\n",
    "\n",
    "# Define the model\n",
    "model = AutoModelForTokenClassification.from_pretrained(model_name, num_labels=2)  # Adjust num_labels as needed\n",
    "\n",
    "# Make sure you have defined: train_dataset, eval_dataset, and training_args before this cell\n",
    "\n",
    "trainer = Trainer(\n",
    "\tmodel=model,\n",
    "\targs=training_args,\n",
    "\ttrain_dataset=train_dataset,\n",
    "\teval_dataset=eval_dataset\n",
    ")\n",
    "\n",
    "trainer.train()\n",
    "trainer.save_model(f\"{model_name.replace('/', '_')}_amharic_ner\")\n"
   ]
  },
  {
   "cell_type": "code",
   "execution_count": null,
   "id": "d7630fa2",
   "metadata": {},
   "outputs": [],
   "source": [
    "import time\n",
    "\n",
    "# Training time\n",
    "start = time.time()\n",
    "trainer.train()\n",
    "end = time.time()\n",
    "print(f\"Training time: {(end-start)/60:.2f} minutes\")\n",
    "\n",
    "# Inference time\n",
    "start = time.time()\n",
    "_ = trainer.predict(tokenized_dataset)\n",
    "end = time.time()\n",
    "print(f\"Inference time: {(end-start):.2f} seconds\")\n"
   ]
  },
  {
   "cell_type": "code",
   "execution_count": null,
   "id": "834bd53d",
   "metadata": {},
   "outputs": [],
   "source": [
    "trainer.save_model(\"final_amharic_ner_model\")\n",
    "tokenizer.save_pretrained(\"final_amharic_ner_model\")\n"
   ]
  }
 ],
 "metadata": {
  "kernelspec": {
   "display_name": "venv",
   "language": "python",
   "name": "python3"
  },
  "language_info": {
   "codemirror_mode": {
    "name": "ipython",
    "version": 3
   },
   "file_extension": ".py",
   "mimetype": "text/x-python",
   "name": "python",
   "nbconvert_exporter": "python",
   "pygments_lexer": "ipython3",
   "version": "3.12.3"
  }
 },
 "nbformat": 4,
 "nbformat_minor": 5
}
